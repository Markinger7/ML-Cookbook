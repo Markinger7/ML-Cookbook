{
 "cells": [
  {
   "cell_type": "markdown",
   "metadata": {},
   "source": [
    "# Clustering\n",
    "- Unsupervised Learning for data analysis, customer segmentation, recommender systems, search engines, image segmentation, semi-supervised learning, dimensionality reduction \n",
    "- is used for identifying similar instances and assigning them to clusters, or groups of similar instances\n",
    "\n",
    "> The vast majority of the available data is unlabeled\n",
    "\n",
    "## Top 5 clustering algorithm\n",
    "- K-Means\n",
    "- Mean-shift\n",
    "- DBSCAN (Density Based Spatial Clustering of Applications with Noise)\n",
    "- EM-GM (Expectation Maximization Clustering using Gaussian Mixture Models)\n",
    "- Agglomerative Hierarchical Clustering\n",
    "\n",
    "\n",
    "\n",
    "## How to chose\n",
    "- on elliptical clusters, Gaussian mixture models perform better than K-Means\n",
    "\n",
    "\n",
    "\n",
    "\n",
    "### K-Means\n",
    "> fast and scalable\n",
    "\n",
    "computational complexity is generally linear, and therefore the fastest clustering algorithm\n",
    "\n",
    "\n",
    "input features should be scaled\n",
    "- improves the usability of the data (more spherical)\n",
    "\n",
    "risk: unlucky centroid initialization \n",
    "\n",
    "if the data doesn't fit into memory:\n",
    "- use `memmap` class\n",
    "- `partial_fit()`\n",
    "\n",
    "#### Centroid initialization methods\n",
    "- Manually, when you know where the centroids are (e.g. if you run one before) `init`\n",
    "- Run multiple times with different random initializations and keep the best solution `n_init`\n",
    "    - automatically set to 10\n",
    "    - performance metric: <b>inertia</b> (mean squared distance between each instance and the closest centroid)\n",
    "- <b>K-Means++</b> (default): initiate centroids that are distant from one another\n",
    "    - method reduces the number of times KMeans needs to run to find the optimal solution.\n",
    "    1. place centroid randomly in the dataset\n",
    "    2. place new centroid, considering the distance to the fist centroid\n",
    "    3. repeat steps until all centroids are are placed\n",
    "- Using <b>Elkan</b> distance (default)\n",
    "- Mini-Batch: makes it possible to cluster huge datasets that do not fit into memory\n",
    "    - implementation over `MiniBatchKMeans`\n",
    "    - is faster and reduces computational cost, but its inertia is slightly worse (especially when number of clusters increases)\n",
    "    \n",
    "\n",
    "#### Finding the optimal number of clusters\n",
    "- Elbow (rather coarse)\n",
    "- `silhouette_score` (computationally expensive)\n",
    "    - can vary between -1 and 1 \n",
    "- `silhouette diagram`\n",
    "    - hight: number of instances the cluster contains\n",
    "    - width: sorted silhouette coefficients of the instances in the cluster (wider is better)\n",
    "    - should include a dashed line which indicates the mean silhouette score \n",
    "    - If all of the clusters are above the dashed line than we should take this k \n",
    "    \n",
    "### Limits of K-Means\n",
    "- needs to run multiple times\n",
    "- specify number of clusters beforehand\n",
    "- doesn't like clusters that vary in size, different densities and nonspherical shapes"
   ]
  },
  {
   "cell_type": "code",
   "execution_count": 1,
   "metadata": {},
   "outputs": [],
   "source": [
    "# imports\n",
    "import numpy as np\n",
    "import matplotlib.pyplot as plt\n",
    "\n",
    "from sklearn.datasets import make_blobs\n",
    "from sklearn.cluster import KMeans\n",
    "from sklearn.metrics import silhouette_score"
   ]
  },
  {
   "cell_type": "code",
   "execution_count": 2,
   "metadata": {},
   "outputs": [],
   "source": [
    "# generate some blobs\n",
    "# code from Hands On Machine Learning Book\n",
    "blob_centers = np.array(\n",
    "    [[ 0.2,  2.3],\n",
    "     [-1.5 ,  2.3],\n",
    "     [-2.8,  1.8],\n",
    "     [-2.8,  2.8],\n",
    "     [-2.8,  1.3]])\n",
    "blob_std = np.array([0.4, 0.3, 0.1, 0.1, 0.1])\n",
    "\n",
    "X, y = make_blobs(n_samples=2000, centers=blob_centers,\n",
    "                  cluster_std=blob_std, random_state=7)\n",
    "\n",
    "# function to plot blobs\n",
    "def plot_clusters(X, y=None):\n",
    "    plt.scatter(X[:, 0], X[:, 1], c=y, s=1)\n",
    "    plt.xlabel(\"$x_1$\", fontsize=14)\n",
    "    plt.ylabel(\"$x_2$\", fontsize=14, rotation=0)"
   ]
  },
  {
   "cell_type": "code",
   "execution_count": 6,
   "metadata": {},
   "outputs": [
    {
     "data": {
      "image/png": "[encoded data removed]",
      "text/plain": [
       "<Figure size 576x288 with 1 Axes>"
      ]
     },
     "metadata": {
      "needs_background": "light"
     },
     "output_type": "display_data"
    }
   ],
   "source": [
    "plt.figure(figsize=(8, 4))\n",
    "plot_clusters(X)\n",
    "plt.show()"
   ]
  },
  {
   "cell_type": "markdown",
   "metadata": {},
   "source": [
    "### K-Means"
   ]
  },
  {
   "cell_type": "code",
   "execution_count": 7,
   "metadata": {},
   "outputs": [],
   "source": [
    "# initiate KMeans with number of expected clusters\n",
    "kmeans = KMeans(n_clusters=5, random_state=42)\n",
    "\n",
    "# use KMeans to get the clusters for the data \n",
    "ypred = kmeans.fit_predict(X)"
   ]
  },
  {
   "cell_type": "code",
   "execution_count": 10,
   "metadata": {},
   "outputs": [
    {
     "data": {
      "text/plain": [
       "array([4, 0, 1, ..., 2, 1, 0], dtype=int32)"
      ]
     },
     "execution_count": 10,
     "metadata": {},
     "output_type": "execute_result"
    }
   ],
   "source": [
    "# prediction for each datapoint\n",
    "ypred"
   ]
  },
  {
   "cell_type": "code",
   "execution_count": 11,
   "metadata": {},
   "outputs": [
    {
     "data": {
      "text/plain": [
       "array([[-2.80389616,  1.80117999],\n",
       "       [ 0.20876306,  2.25551336],\n",
       "       [-2.79290307,  2.79641063],\n",
       "       [-1.46679593,  2.28585348],\n",
       "       [-2.80037642,  1.30082566]])"
      ]
     },
     "execution_count": 11,
     "metadata": {},
     "output_type": "execute_result"
    }
   ],
   "source": [
    "# the location of the centroids\n",
    "kmeans.cluster_centers_"
   ]
  },
  {
   "cell_type": "markdown",
   "metadata": {},
   "source": [
    "plot centroids"
   ]
  },
  {
   "cell_type": "code",
   "execution_count": 20,
   "metadata": {},
   "outputs": [],
   "source": [
    "def plot_centroids(cluster, centroids):\n",
    "    '''\n",
    "    INPUT\n",
    "        cluster: array with the data points \n",
    "        centroids: array with the centroids\n",
    "    \n",
    "    OUTPUT\n",
    "        visualization with the data and the centroids    \n",
    "    '''\n",
    "    # Data\n",
    "    plt.scatter(cluster[:, 0], cluster[:, 1], s=0.5)\n",
    "    \n",
    "    # centroids from KMeans\n",
    "    plt.scatter(centroids[:, 0], centroids[:, 1])\n",
    "    \n",
    "    plt.show()"
   ]
  },
  {
   "cell_type": "code",
   "execution_count": 19,
   "metadata": {},
   "outputs": [
    {
     "data": {
      "image/png": "[encoded data removed]",
      "text/plain": [
       "<Figure size 432x288 with 1 Axes>"
      ]
     },
     "metadata": {
      "needs_background": "light"
     },
     "output_type": "display_data"
    }
   ],
   "source": [
    "plot_centroids(X, kmeans.cluster_centers_)"
   ]
  },
  {
   "cell_type": "markdown",
   "metadata": {},
   "source": [
    "> In this visualization you can clearly see that the centroids are perfectly in the middle of each cluster.\n",
    "\n",
    "It is possible to plot the decision boundaries of each cluster"
   ]
  },
  {
   "cell_type": "code",
   "execution_count": 21,
   "metadata": {},
   "outputs": [
    {
     "data": {
      "text/plain": [
       "211.5985372581684"
      ]
     },
     "execution_count": 21,
     "metadata": {},
     "output_type": "execute_result"
    }
   ],
   "source": [
    "# check performace metric inertia\n",
    "kmeans.inertia_"
   ]
  },
  {
   "cell_type": "code",
   "execution_count": 22,
   "metadata": {},
   "outputs": [
    {
     "data": {
      "text/plain": [
       "-211.59853725816856"
      ]
     },
     "execution_count": 22,
     "metadata": {},
     "output_type": "execute_result"
    }
   ],
   "source": [
    "# is negative since a lower inertia score is better than a higher one\n",
    "kmeans.score(X)"
   ]
  },
  {
   "cell_type": "code",
   "execution_count": null,
   "metadata": {},
   "outputs": [],
   "source": []
  },
  {
   "cell_type": "code",
   "execution_count": null,
   "metadata": {},
   "outputs": [],
   "source": []
  },
  {
   "cell_type": "markdown",
   "metadata": {},
   "source": [
    "## Project: Clustering stocks"
   ]
  },
  {
   "cell_type": "code",
   "execution_count": null,
   "metadata": {},
   "outputs": [],
   "source": []
  },
  {
   "cell_type": "markdown",
   "metadata": {},
   "source": [
    "## Resources\n",
    "- Hands-On Machine Learning with Scikit-Learn and TensorFlow\n",
    "- https://www.kdnuggets.com/2018/06/5-clustering-algorithms-data-scientists-need-know.html\n",
    "- https://www.kdnuggets.com/2020/02/understanding-density-based-clustering.html\n",
    "- https://towardsdatascience.com/machine-learning-for-stock-clustering-using-k-means-algorithm-126bc1ace4e1\n"
   ]
  },
  {
   "cell_type": "code",
   "execution_count": null,
   "metadata": {},
   "outputs": [],
   "source": []
  }
 ],
 "metadata": {
  "kernelspec": {
   "display_name": "Python 3",
   "language": "python",
   "name": "python3"
  },
  "language_info": {
   "codemirror_mode": {
    "name": "ipython",
    "version": 3
   },
   "file_extension": ".py",
   "mimetype": "text/x-python",
   "name": "python",
   "nbconvert_exporter": "python",
   "pygments_lexer": "ipython3",
   "version": "3.7.6"
  }
 },
 "nbformat": 4,
 "nbformat_minor": 4
}
